{
  "nbformat": 4,
  "nbformat_minor": 0,
  "metadata": {
    "colab": {
      "name": "data_collection.ipynb",
      "provenance": [],
      "authorship_tag": "ABX9TyPHIV7YTqybxkSysnJUg6Kw",
      "include_colab_link": true
    },
    "kernelspec": {
      "name": "python3",
      "display_name": "Python 3"
    }
  },
  "cells": [
    {
      "cell_type": "markdown",
      "metadata": {
        "id": "view-in-github",
        "colab_type": "text"
      },
      "source": [
        "<a href=\"https://colab.research.google.com/github/apadkavyrava/Contextual-text-parsing-/blob/master/data_collection.ipynb\" target=\"_parent\"><img src=\"https://colab.research.google.com/assets/colab-badge.svg\" alt=\"Open In Colab\"/></a>"
      ]
    },
    {
      "cell_type": "markdown",
      "metadata": {
        "id": "Dr7q0KBl2bqJ",
        "colab_type": "text"
      },
      "source": [
        "Cities dataset came from Kaggle in csv format with 15000 rows"
      ]
    },
    {
      "cell_type": "code",
      "metadata": {
        "id": "r-1ScjTJZQhU",
        "colab_type": "code",
        "outputId": "0c0e350a-5e90-4e79-82af-7b54bb63dc56",
        "colab": {
          "base_uri": "https://localhost:8080/",
          "height": 204
        }
      },
      "source": [
        "import pandas as pd\n",
        "\n",
        "cities_raw = pd.read_csv('cities15000.csv', encoding='latin1')\n",
        "cities_raw.head() \n",
        "cities_t = pd.DataFrame(data = cities_raw['asciiname'])\n",
        "cities_t.columns = ['Words']\n",
        "cities_t.head(15)\n",
        "cities_t.insert(1, 'Label', 'LOC') \n",
        "cities_t.head()"
      ],
      "execution_count": 0,
      "outputs": [
        {
          "output_type": "execute_result",
          "data": {
            "text/html": [
              "<div>\n",
              "<style scoped>\n",
              "    .dataframe tbody tr th:only-of-type {\n",
              "        vertical-align: middle;\n",
              "    }\n",
              "\n",
              "    .dataframe tbody tr th {\n",
              "        vertical-align: top;\n",
              "    }\n",
              "\n",
              "    .dataframe thead th {\n",
              "        text-align: right;\n",
              "    }\n",
              "</style>\n",
              "<table border=\"1\" class=\"dataframe\">\n",
              "  <thead>\n",
              "    <tr style=\"text-align: right;\">\n",
              "      <th></th>\n",
              "      <th>Words</th>\n",
              "      <th>Label</th>\n",
              "    </tr>\n",
              "  </thead>\n",
              "  <tbody>\n",
              "    <tr>\n",
              "      <th>0</th>\n",
              "      <td>les Escaldes</td>\n",
              "      <td>LOC</td>\n",
              "    </tr>\n",
              "    <tr>\n",
              "      <th>1</th>\n",
              "      <td>Andorra la Vella</td>\n",
              "      <td>LOC</td>\n",
              "    </tr>\n",
              "    <tr>\n",
              "      <th>2</th>\n",
              "      <td>Umm al Qaywayn</td>\n",
              "      <td>LOC</td>\n",
              "    </tr>\n",
              "    <tr>\n",
              "      <th>3</th>\n",
              "      <td>Ras al-Khaimah</td>\n",
              "      <td>LOC</td>\n",
              "    </tr>\n",
              "    <tr>\n",
              "      <th>4</th>\n",
              "      <td>Khawr Fakkan</td>\n",
              "      <td>LOC</td>\n",
              "    </tr>\n",
              "  </tbody>\n",
              "</table>\n",
              "</div>"
            ],
            "text/plain": [
              "              Words Label\n",
              "0      les Escaldes   LOC\n",
              "1  Andorra la Vella   LOC\n",
              "2    Umm al Qaywayn   LOC\n",
              "3    Ras al-Khaimah   LOC\n",
              "4      Khawr Fakkan   LOC"
            ]
          },
          "metadata": {
            "tags": []
          },
          "execution_count": 3
        }
      ]
    },
    {
      "cell_type": "markdown",
      "metadata": {
        "id": "uWEUv1UC2zvJ",
        "colab_type": "text"
      },
      "source": [
        "Countries and territiries."
      ]
    },
    {
      "cell_type": "code",
      "metadata": {
        "id": "eocS23-24WXR",
        "colab_type": "code",
        "outputId": "adc8d213-dd65-4c2e-fb1e-93265cb1e3e3",
        "colab": {
          "base_uri": "https://localhost:8080/",
          "height": 298
        }
      },
      "source": [
        "countries_raw = pd.read_csv('countries of the world.csv')\n",
        "countries_raw.head(3)"
      ],
      "execution_count": 0,
      "outputs": [
        {
          "output_type": "execute_result",
          "data": {
            "text/html": [
              "<div>\n",
              "<style scoped>\n",
              "    .dataframe tbody tr th:only-of-type {\n",
              "        vertical-align: middle;\n",
              "    }\n",
              "\n",
              "    .dataframe tbody tr th {\n",
              "        vertical-align: top;\n",
              "    }\n",
              "\n",
              "    .dataframe thead th {\n",
              "        text-align: right;\n",
              "    }\n",
              "</style>\n",
              "<table border=\"1\" class=\"dataframe\">\n",
              "  <thead>\n",
              "    <tr style=\"text-align: right;\">\n",
              "      <th></th>\n",
              "      <th>Country</th>\n",
              "      <th>Region</th>\n",
              "      <th>Population</th>\n",
              "      <th>Area (sq. mi.)</th>\n",
              "      <th>Pop. Density (per sq. mi.)</th>\n",
              "      <th>Coastline (coast/area ratio)</th>\n",
              "      <th>Net migration</th>\n",
              "      <th>Infant mortality (per 1000 births)</th>\n",
              "      <th>GDP ($ per capita)</th>\n",
              "      <th>Literacy (%)</th>\n",
              "      <th>Phones (per 1000)</th>\n",
              "      <th>Arable (%)</th>\n",
              "      <th>Crops (%)</th>\n",
              "      <th>Other (%)</th>\n",
              "      <th>Climate</th>\n",
              "      <th>Birthrate</th>\n",
              "      <th>Deathrate</th>\n",
              "      <th>Agriculture</th>\n",
              "      <th>Industry</th>\n",
              "      <th>Service</th>\n",
              "    </tr>\n",
              "  </thead>\n",
              "  <tbody>\n",
              "    <tr>\n",
              "      <th>0</th>\n",
              "      <td>Afghanistan</td>\n",
              "      <td>ASIA (EX. NEAR EAST)</td>\n",
              "      <td>31056997</td>\n",
              "      <td>647500</td>\n",
              "      <td>48,0</td>\n",
              "      <td>0,00</td>\n",
              "      <td>23,06</td>\n",
              "      <td>163,07</td>\n",
              "      <td>700.0</td>\n",
              "      <td>36,0</td>\n",
              "      <td>3,2</td>\n",
              "      <td>12,13</td>\n",
              "      <td>0,22</td>\n",
              "      <td>87,65</td>\n",
              "      <td>1</td>\n",
              "      <td>46,6</td>\n",
              "      <td>20,34</td>\n",
              "      <td>0,38</td>\n",
              "      <td>0,24</td>\n",
              "      <td>0,38</td>\n",
              "    </tr>\n",
              "    <tr>\n",
              "      <th>1</th>\n",
              "      <td>Albania</td>\n",
              "      <td>EASTERN EUROPE</td>\n",
              "      <td>3581655</td>\n",
              "      <td>28748</td>\n",
              "      <td>124,6</td>\n",
              "      <td>1,26</td>\n",
              "      <td>-4,93</td>\n",
              "      <td>21,52</td>\n",
              "      <td>4500.0</td>\n",
              "      <td>86,5</td>\n",
              "      <td>71,2</td>\n",
              "      <td>21,09</td>\n",
              "      <td>4,42</td>\n",
              "      <td>74,49</td>\n",
              "      <td>3</td>\n",
              "      <td>15,11</td>\n",
              "      <td>5,22</td>\n",
              "      <td>0,232</td>\n",
              "      <td>0,188</td>\n",
              "      <td>0,579</td>\n",
              "    </tr>\n",
              "    <tr>\n",
              "      <th>2</th>\n",
              "      <td>Algeria</td>\n",
              "      <td>NORTHERN AFRICA</td>\n",
              "      <td>32930091</td>\n",
              "      <td>2381740</td>\n",
              "      <td>13,8</td>\n",
              "      <td>0,04</td>\n",
              "      <td>-0,39</td>\n",
              "      <td>31</td>\n",
              "      <td>6000.0</td>\n",
              "      <td>70,0</td>\n",
              "      <td>78,1</td>\n",
              "      <td>3,22</td>\n",
              "      <td>0,25</td>\n",
              "      <td>96,53</td>\n",
              "      <td>1</td>\n",
              "      <td>17,14</td>\n",
              "      <td>4,61</td>\n",
              "      <td>0,101</td>\n",
              "      <td>0,6</td>\n",
              "      <td>0,298</td>\n",
              "    </tr>\n",
              "  </tbody>\n",
              "</table>\n",
              "</div>"
            ],
            "text/plain": [
              "        Country                               Region  ...  Industry  Service\n",
              "0  Afghanistan         ASIA (EX. NEAR EAST)           ...      0,24     0,38\n",
              "1      Albania   EASTERN EUROPE                       ...     0,188    0,579\n",
              "2      Algeria   NORTHERN AFRICA                      ...       0,6    0,298\n",
              "\n",
              "[3 rows x 20 columns]"
            ]
          },
          "metadata": {
            "tags": []
          },
          "execution_count": 4
        }
      ]
    },
    {
      "cell_type": "code",
      "metadata": {
        "id": "__9ItmCp4ycs",
        "colab_type": "code",
        "outputId": "5ea1c6df-e33c-47fd-c2f3-9008ed43cf96",
        "colab": {
          "base_uri": "https://localhost:8080/",
          "height": 170
        }
      },
      "source": [
        "#interesting in Country and Region\n",
        "country_t = pd.DataFrame(data = countries_raw['Country'])\n",
        "country_t.columns = ['Words']\n",
        "country_t.insert(1, 'Label', 'LOC') \n",
        "country_t.head()\n",
        "countries_raw['Region'].unique()"
      ],
      "execution_count": 0,
      "outputs": [
        {
          "output_type": "execute_result",
          "data": {
            "text/plain": [
              "array(['ASIA (EX. NEAR EAST)         ',\n",
              "       'EASTERN EUROPE                     ',\n",
              "       'NORTHERN AFRICA                    ',\n",
              "       'OCEANIA                            ',\n",
              "       'WESTERN EUROPE                     ',\n",
              "       'SUB-SAHARAN AFRICA                 ', 'LATIN AMER. & CARIB    ',\n",
              "       'C.W. OF IND. STATES ', 'NEAR EAST                          ',\n",
              "       'NORTHERN AMERICA                   ',\n",
              "       'BALTICS                            '], dtype=object)"
            ]
          },
          "metadata": {
            "tags": []
          },
          "execution_count": 5
        }
      ]
    },
    {
      "cell_type": "code",
      "metadata": {
        "id": "_vB3twyo92SB",
        "colab_type": "code",
        "outputId": "a67a1e14-2ac0-4fea-b93c-3b2372ceb4dd",
        "colab": {
          "base_uri": "https://localhost:8080/",
          "height": 224
        }
      },
      "source": [
        "#not enough for regions. Use diff dataset\n",
        "region_raw = pd.read_csv('countries-geographical-territory-containment-csv_csv.csv')\n",
        "region_raw.head()"
      ],
      "execution_count": 0,
      "outputs": [
        {
          "output_type": "execute_result",
          "data": {
            "text/html": [
              "<div>\n",
              "<style scoped>\n",
              "    .dataframe tbody tr th:only-of-type {\n",
              "        vertical-align: middle;\n",
              "    }\n",
              "\n",
              "    .dataframe tbody tr th {\n",
              "        vertical-align: top;\n",
              "    }\n",
              "\n",
              "    .dataframe thead th {\n",
              "        text-align: right;\n",
              "    }\n",
              "</style>\n",
              "<table border=\"1\" class=\"dataframe\">\n",
              "  <thead>\n",
              "    <tr style=\"text-align: right;\">\n",
              "      <th></th>\n",
              "      <th>Region_Code</th>\n",
              "      <th>Region_Name</th>\n",
              "      <th>Sub_Region_Code</th>\n",
              "      <th>Sub_Region_Name</th>\n",
              "      <th>Intermediate_Region_Code</th>\n",
              "      <th>Intermediate_Region_Name</th>\n",
              "      <th>Country_or_Area</th>\n",
              "      <th>M49_Code</th>\n",
              "      <th>ISO_Alpha3_Code</th>\n",
              "      <th>Is_Least_Developed_Countries_LDC</th>\n",
              "      <th>Is_Land_Locked_Developing_Countries_LLDC</th>\n",
              "      <th>Is_Small_Island_Developing_States_SIDS</th>\n",
              "      <th>Developed_Or_Developing_Countries</th>\n",
              "    </tr>\n",
              "  </thead>\n",
              "  <tbody>\n",
              "    <tr>\n",
              "      <th>0</th>\n",
              "      <td>2</td>\n",
              "      <td>Africa</td>\n",
              "      <td>15</td>\n",
              "      <td>Northern Africa</td>\n",
              "      <td>NaN</td>\n",
              "      <td>NaN</td>\n",
              "      <td>Algeria</td>\n",
              "      <td>12</td>\n",
              "      <td>DZA</td>\n",
              "      <td>False</td>\n",
              "      <td>False</td>\n",
              "      <td>False</td>\n",
              "      <td>Developing</td>\n",
              "    </tr>\n",
              "    <tr>\n",
              "      <th>1</th>\n",
              "      <td>2</td>\n",
              "      <td>Africa</td>\n",
              "      <td>15</td>\n",
              "      <td>Northern Africa</td>\n",
              "      <td>NaN</td>\n",
              "      <td>NaN</td>\n",
              "      <td>Egypt</td>\n",
              "      <td>818</td>\n",
              "      <td>EGY</td>\n",
              "      <td>False</td>\n",
              "      <td>False</td>\n",
              "      <td>False</td>\n",
              "      <td>Developing</td>\n",
              "    </tr>\n",
              "    <tr>\n",
              "      <th>2</th>\n",
              "      <td>2</td>\n",
              "      <td>Africa</td>\n",
              "      <td>15</td>\n",
              "      <td>Northern Africa</td>\n",
              "      <td>NaN</td>\n",
              "      <td>NaN</td>\n",
              "      <td>Libya</td>\n",
              "      <td>434</td>\n",
              "      <td>LBY</td>\n",
              "      <td>False</td>\n",
              "      <td>False</td>\n",
              "      <td>False</td>\n",
              "      <td>Developing</td>\n",
              "    </tr>\n",
              "    <tr>\n",
              "      <th>3</th>\n",
              "      <td>2</td>\n",
              "      <td>Africa</td>\n",
              "      <td>15</td>\n",
              "      <td>Northern Africa</td>\n",
              "      <td>NaN</td>\n",
              "      <td>NaN</td>\n",
              "      <td>Morocco</td>\n",
              "      <td>504</td>\n",
              "      <td>MAR</td>\n",
              "      <td>False</td>\n",
              "      <td>False</td>\n",
              "      <td>False</td>\n",
              "      <td>Developing</td>\n",
              "    </tr>\n",
              "    <tr>\n",
              "      <th>4</th>\n",
              "      <td>2</td>\n",
              "      <td>Africa</td>\n",
              "      <td>15</td>\n",
              "      <td>Northern Africa</td>\n",
              "      <td>NaN</td>\n",
              "      <td>NaN</td>\n",
              "      <td>Sudan</td>\n",
              "      <td>729</td>\n",
              "      <td>SDN</td>\n",
              "      <td>True</td>\n",
              "      <td>False</td>\n",
              "      <td>False</td>\n",
              "      <td>Developing</td>\n",
              "    </tr>\n",
              "  </tbody>\n",
              "</table>\n",
              "</div>"
            ],
            "text/plain": [
              "   Region_Code  ... Developed_Or_Developing_Countries\n",
              "0            2  ...                        Developing\n",
              "1            2  ...                        Developing\n",
              "2            2  ...                        Developing\n",
              "3            2  ...                        Developing\n",
              "4            2  ...                        Developing\n",
              "\n",
              "[5 rows x 13 columns]"
            ]
          },
          "metadata": {
            "tags": []
          },
          "execution_count": 6
        }
      ]
    },
    {
      "cell_type": "code",
      "metadata": {
        "id": "ZTf4dUs0AEQJ",
        "colab_type": "code",
        "outputId": "9b1238eb-65dc-412c-d3c9-95ffb13b6a6c",
        "colab": {
          "base_uri": "https://localhost:8080/",
          "height": 204
        }
      },
      "source": [
        "#we are interesting in Region_Name and Sub_Region_Name\n",
        "import numpy as np\n",
        "region_t1 = pd.DataFrame(data = region_raw['Region_Name'].unique())\n",
        "region_t1.columns = ['Words']\n",
        "region_t1.insert(1, 'Label', 'LOC') \n",
        "sub_region_t = pd.DataFrame(data = region_raw['Sub_Region_Name'].unique())\n",
        "sub_region_t.columns = ['Words']\n",
        "sub_region_t.insert(1, 'Label', 'LOC') \n",
        "fr = [region_t1, sub_region_t]\n",
        "region_t = pd.concat(fr)\n",
        "region_t.dropna(inplace=True)\n",
        "region_t.head(5)"
      ],
      "execution_count": 0,
      "outputs": [
        {
          "output_type": "execute_result",
          "data": {
            "text/html": [
              "<div>\n",
              "<style scoped>\n",
              "    .dataframe tbody tr th:only-of-type {\n",
              "        vertical-align: middle;\n",
              "    }\n",
              "\n",
              "    .dataframe tbody tr th {\n",
              "        vertical-align: top;\n",
              "    }\n",
              "\n",
              "    .dataframe thead th {\n",
              "        text-align: right;\n",
              "    }\n",
              "</style>\n",
              "<table border=\"1\" class=\"dataframe\">\n",
              "  <thead>\n",
              "    <tr style=\"text-align: right;\">\n",
              "      <th></th>\n",
              "      <th>Words</th>\n",
              "      <th>Label</th>\n",
              "    </tr>\n",
              "  </thead>\n",
              "  <tbody>\n",
              "    <tr>\n",
              "      <th>0</th>\n",
              "      <td>Africa</td>\n",
              "      <td>LOC</td>\n",
              "    </tr>\n",
              "    <tr>\n",
              "      <th>1</th>\n",
              "      <td>Americas</td>\n",
              "      <td>LOC</td>\n",
              "    </tr>\n",
              "    <tr>\n",
              "      <th>3</th>\n",
              "      <td>Asia</td>\n",
              "      <td>LOC</td>\n",
              "    </tr>\n",
              "    <tr>\n",
              "      <th>4</th>\n",
              "      <td>Europe</td>\n",
              "      <td>LOC</td>\n",
              "    </tr>\n",
              "    <tr>\n",
              "      <th>5</th>\n",
              "      <td>Oceania</td>\n",
              "      <td>LOC</td>\n",
              "    </tr>\n",
              "  </tbody>\n",
              "</table>\n",
              "</div>"
            ],
            "text/plain": [
              "      Words Label\n",
              "0    Africa   LOC\n",
              "1  Americas   LOC\n",
              "3      Asia   LOC\n",
              "4    Europe   LOC\n",
              "5   Oceania   LOC"
            ]
          },
          "metadata": {
            "tags": []
          },
          "execution_count": 7
        }
      ]
    },
    {
      "cell_type": "markdown",
      "metadata": {
        "id": "QaQcX9fBwy90",
        "colab_type": "text"
      },
      "source": [
        "Famous object."
      ]
    },
    {
      "cell_type": "code",
      "metadata": {
        "id": "2FLbElkeyX2e",
        "colab_type": "code",
        "outputId": "988816b6-9211-494a-baf8-3495f6b87cfb",
        "colab": {
          "base_uri": "https://localhost:8080/",
          "height": 255
        }
      },
      "source": [
        "import requests\n",
        "from bs4 import BeautifulSoup\n",
        "f_place = pd.DataFrame()\n",
        "for page in range(1, 8):\n",
        "  r= requests.get('https://www.listchallenges.com/top-250-famous-attractions-in-the-world/list/{}'.format(page))\n",
        "  soup = BeautifulSoup(r.text, 'html.parser')\n",
        "  obj_list = [object.text.strip() for object in soup.select('div.item-name')]\n",
        "  f_place = f_place.append(obj_list)\n",
        "f_place.columns = ['Words']\n",
        "f_place.insert(1, 'Label', 'LOC') \n",
        "print(f_place)\n"
      ],
      "execution_count": 0,
      "outputs": [
        {
          "output_type": "stream",
          "text": [
            "                            Words Label\n",
            "0             Great Wall of China   LOC\n",
            "1               Statue of Liberty   LOC\n",
            "2                    Eiffel Tower   LOC\n",
            "3                         Big Ben   LOC\n",
            "4              Sydney Opera House   LOC\n",
            "..                            ...   ...\n",
            "5         Great Blue Hole, Belize   LOC\n",
            "6   Tigers Nest Monastery, Bhutan   LOC\n",
            "7     Gullfoss Waterfall, Iceland   LOC\n",
            "8                      Halong Bay   LOC\n",
            "9                 Antelope Canyon   LOC\n",
            "\n",
            "[250 rows x 2 columns]\n"
          ],
          "name": "stdout"
        }
      ]
    },
    {
      "cell_type": "markdown",
      "metadata": {
        "id": "HDfIGs-VptRx",
        "colab_type": "text"
      },
      "source": [
        "Componies. Used two datasets - 1000 the most profitable and 1000 charities or non profitable companies. "
      ]
    },
    {
      "cell_type": "code",
      "metadata": {
        "id": "1qUt9NHrqay5",
        "colab_type": "code",
        "outputId": "e44ed906-bb44-45e9-81c6-ac7dd0fb4a9b",
        "colab": {
          "base_uri": "https://localhost:8080/",
          "height": 204
        }
      },
      "source": [
        "pro_com = pd.read_csv('Forbes Top2000.csv')\n",
        "non_pro_com = pd.read_csv('eo_pr.csv')\n",
        "fr_pro = pd.DataFrame(data = pro_com['Company'])\n",
        "fr_pro.columns = ['Words']\n",
        "fr_pro.insert(1, 'Label', 'ORG') \n",
        "fr_non_pro = pd.DataFrame(data = non_pro_com['NAME'])\n",
        "fr_non_pro.columns = ['Words']\n",
        "fr_non_pro.insert(1, 'Label', 'ORG')\n",
        "temp_list = [fr_pro, fr_non_pro]\n",
        "companies_t = pd.concat(temp_list)\n",
        "companies_t.head(5)"
      ],
      "execution_count": 0,
      "outputs": [
        {
          "output_type": "execute_result",
          "data": {
            "text/html": [
              "<div>\n",
              "<style scoped>\n",
              "    .dataframe tbody tr th:only-of-type {\n",
              "        vertical-align: middle;\n",
              "    }\n",
              "\n",
              "    .dataframe tbody tr th {\n",
              "        vertical-align: top;\n",
              "    }\n",
              "\n",
              "    .dataframe thead th {\n",
              "        text-align: right;\n",
              "    }\n",
              "</style>\n",
              "<table border=\"1\" class=\"dataframe\">\n",
              "  <thead>\n",
              "    <tr style=\"text-align: right;\">\n",
              "      <th></th>\n",
              "      <th>Words</th>\n",
              "      <th>Label</th>\n",
              "    </tr>\n",
              "  </thead>\n",
              "  <tbody>\n",
              "    <tr>\n",
              "      <th>0</th>\n",
              "      <td>ICBC</td>\n",
              "      <td>ORG</td>\n",
              "    </tr>\n",
              "    <tr>\n",
              "      <th>1</th>\n",
              "      <td>China Construction Bank</td>\n",
              "      <td>ORG</td>\n",
              "    </tr>\n",
              "    <tr>\n",
              "      <th>2</th>\n",
              "      <td>Berkshire Hathaway</td>\n",
              "      <td>ORG</td>\n",
              "    </tr>\n",
              "    <tr>\n",
              "      <th>3</th>\n",
              "      <td>JPMorgan Chase</td>\n",
              "      <td>ORG</td>\n",
              "    </tr>\n",
              "    <tr>\n",
              "      <th>4</th>\n",
              "      <td>Wells Fargo</td>\n",
              "      <td>ORG</td>\n",
              "    </tr>\n",
              "  </tbody>\n",
              "</table>\n",
              "</div>"
            ],
            "text/plain": [
              "                     Words Label\n",
              "0                     ICBC   ORG\n",
              "1  China Construction Bank   ORG\n",
              "2       Berkshire Hathaway   ORG\n",
              "3           JPMorgan Chase   ORG\n",
              "4              Wells Fargo   ORG"
            ]
          },
          "metadata": {
            "tags": []
          },
          "execution_count": 8
        }
      ]
    },
    {
      "cell_type": "markdown",
      "metadata": {
        "id": "Qce6lk2c5-xQ",
        "colab_type": "text"
      },
      "source": [
        "Used generator of abstract words, get the lits of excel."
      ]
    },
    {
      "cell_type": "code",
      "metadata": {
        "id": "N2F-MXWi6K1N",
        "colab_type": "code",
        "outputId": "246d2b71-03c8-42e9-bf4e-3117c3d96e99",
        "colab": {
          "base_uri": "https://localhost:8080/",
          "height": 204
        }
      },
      "source": [
        "import pandas as pd\n",
        "\n",
        "ab_word = pd.read_excel('abstract-nouns.xlsx')\n",
        "abstract_t = pd.DataFrame(data = ab_word)\n",
        "abstract_t.columns = ['Words']\n",
        "abstract_t.insert(1, 'Label', 'OTH')\n",
        "abstract_t.head()"
      ],
      "execution_count": 0,
      "outputs": [
        {
          "output_type": "execute_result",
          "data": {
            "text/html": [
              "<div>\n",
              "<style scoped>\n",
              "    .dataframe tbody tr th:only-of-type {\n",
              "        vertical-align: middle;\n",
              "    }\n",
              "\n",
              "    .dataframe tbody tr th {\n",
              "        vertical-align: top;\n",
              "    }\n",
              "\n",
              "    .dataframe thead th {\n",
              "        text-align: right;\n",
              "    }\n",
              "</style>\n",
              "<table border=\"1\" class=\"dataframe\">\n",
              "  <thead>\n",
              "    <tr style=\"text-align: right;\">\n",
              "      <th></th>\n",
              "      <th>Words</th>\n",
              "      <th>Label</th>\n",
              "    </tr>\n",
              "  </thead>\n",
              "  <tbody>\n",
              "    <tr>\n",
              "      <th>0</th>\n",
              "      <td>Happiness</td>\n",
              "      <td>OTH</td>\n",
              "    </tr>\n",
              "    <tr>\n",
              "      <th>1</th>\n",
              "      <td>Discordance</td>\n",
              "      <td>OTH</td>\n",
              "    </tr>\n",
              "    <tr>\n",
              "      <th>2</th>\n",
              "      <td>Agony</td>\n",
              "      <td>OTH</td>\n",
              "    </tr>\n",
              "    <tr>\n",
              "      <th>3</th>\n",
              "      <td>Ugliness</td>\n",
              "      <td>OTH</td>\n",
              "    </tr>\n",
              "    <tr>\n",
              "      <th>4</th>\n",
              "      <td>Torment</td>\n",
              "      <td>OTH</td>\n",
              "    </tr>\n",
              "  </tbody>\n",
              "</table>\n",
              "</div>"
            ],
            "text/plain": [
              "         Words Label\n",
              "0    Happiness   OTH\n",
              "1  Discordance   OTH\n",
              "2        Agony   OTH\n",
              "3     Ugliness   OTH\n",
              "4      Torment   OTH"
            ]
          },
          "metadata": {
            "tags": []
          },
          "execution_count": 9
        }
      ]
    },
    {
      "cell_type": "markdown",
      "metadata": {
        "id": "fVO0xv74P1c-",
        "colab_type": "text"
      },
      "source": [
        "Random strings. Use random generators."
      ]
    },
    {
      "cell_type": "code",
      "metadata": {
        "id": "Bkzc3IvlQEgc",
        "colab_type": "code",
        "outputId": "7cae70d7-ec03-4c17-bc68-98217970b276",
        "colab": {
          "base_uri": "https://localhost:8080/",
          "height": 204
        }
      },
      "source": [
        "import pandas as pd\n",
        "rand_st = pd.read_excel('random_string.xlsx')\n",
        "random_t = pd.DataFrame(data=rand_st)\n",
        "random_t.columns = ['Words']\n",
        "random_t.insert(1, 'Label', 'RAN')\n",
        "random_t.head()"
      ],
      "execution_count": 0,
      "outputs": [
        {
          "output_type": "execute_result",
          "data": {
            "text/html": [
              "<div>\n",
              "<style scoped>\n",
              "    .dataframe tbody tr th:only-of-type {\n",
              "        vertical-align: middle;\n",
              "    }\n",
              "\n",
              "    .dataframe tbody tr th {\n",
              "        vertical-align: top;\n",
              "    }\n",
              "\n",
              "    .dataframe thead th {\n",
              "        text-align: right;\n",
              "    }\n",
              "</style>\n",
              "<table border=\"1\" class=\"dataframe\">\n",
              "  <thead>\n",
              "    <tr style=\"text-align: right;\">\n",
              "      <th></th>\n",
              "      <th>Words</th>\n",
              "      <th>Label</th>\n",
              "    </tr>\n",
              "  </thead>\n",
              "  <tbody>\n",
              "    <tr>\n",
              "      <th>0</th>\n",
              "      <td>vJRgdxFKM6MJ</td>\n",
              "      <td>RAN</td>\n",
              "    </tr>\n",
              "    <tr>\n",
              "      <th>1</th>\n",
              "      <td>wXQq37sQwrDM</td>\n",
              "      <td>RAN</td>\n",
              "    </tr>\n",
              "    <tr>\n",
              "      <th>2</th>\n",
              "      <td>ncUfTccL7KgV</td>\n",
              "      <td>RAN</td>\n",
              "    </tr>\n",
              "    <tr>\n",
              "      <th>3</th>\n",
              "      <td>QemzuByjYjJC</td>\n",
              "      <td>RAN</td>\n",
              "    </tr>\n",
              "    <tr>\n",
              "      <th>4</th>\n",
              "      <td>bxaX8fLeGqHr</td>\n",
              "      <td>RAN</td>\n",
              "    </tr>\n",
              "  </tbody>\n",
              "</table>\n",
              "</div>"
            ],
            "text/plain": [
              "          Words Label\n",
              "0  vJRgdxFKM6MJ   RAN\n",
              "1  wXQq37sQwrDM   RAN\n",
              "2  ncUfTccL7KgV   RAN\n",
              "3  QemzuByjYjJC   RAN\n",
              "4  bxaX8fLeGqHr   RAN"
            ]
          },
          "metadata": {
            "tags": []
          },
          "execution_count": 10
        }
      ]
    },
    {
      "cell_type": "markdown",
      "metadata": {
        "id": "JiXxzY3Gd-1x",
        "colab_type": "text"
      },
      "source": [
        "Dates. "
      ]
    },
    {
      "cell_type": "code",
      "metadata": {
        "id": "skScVigfeBm2",
        "colab_type": "code",
        "outputId": "adf261af-65a7-40df-fb52-5ff23f37799f",
        "colab": {
          "base_uri": "https://localhost:8080/",
          "height": 204
        }
      },
      "source": [
        "import pandas as pd\n",
        "dates = pd.read_excel('random_string.xlsx', sheet_name = 'Sheet2')\n",
        "Dates_t = pd.DataFrame(data = dates)\n",
        "Dates_t.columns = ['Words']\n",
        "Dates_t.insert(1,'Label','DATE')\n",
        "Dates_t.tail(5)"
      ],
      "execution_count": 0,
      "outputs": [
        {
          "output_type": "execute_result",
          "data": {
            "text/html": [
              "<div>\n",
              "<style scoped>\n",
              "    .dataframe tbody tr th:only-of-type {\n",
              "        vertical-align: middle;\n",
              "    }\n",
              "\n",
              "    .dataframe tbody tr th {\n",
              "        vertical-align: top;\n",
              "    }\n",
              "\n",
              "    .dataframe thead th {\n",
              "        text-align: right;\n",
              "    }\n",
              "</style>\n",
              "<table border=\"1\" class=\"dataframe\">\n",
              "  <thead>\n",
              "    <tr style=\"text-align: right;\">\n",
              "      <th></th>\n",
              "      <th>Words</th>\n",
              "      <th>Label</th>\n",
              "    </tr>\n",
              "  </thead>\n",
              "  <tbody>\n",
              "    <tr>\n",
              "      <th>469</th>\n",
              "      <td>1984-02-26 00:00:00</td>\n",
              "      <td>DATE</td>\n",
              "    </tr>\n",
              "    <tr>\n",
              "      <th>470</th>\n",
              "      <td>1989-05-28 00:00:00</td>\n",
              "      <td>DATE</td>\n",
              "    </tr>\n",
              "    <tr>\n",
              "      <th>471</th>\n",
              "      <td>1989-07-29 00:00:00</td>\n",
              "      <td>DATE</td>\n",
              "    </tr>\n",
              "    <tr>\n",
              "      <th>472</th>\n",
              "      <td>1996-09-10 00:00:00</td>\n",
              "      <td>DATE</td>\n",
              "    </tr>\n",
              "    <tr>\n",
              "      <th>473</th>\n",
              "      <td>2002-12-28 00:00:00</td>\n",
              "      <td>DATE</td>\n",
              "    </tr>\n",
              "  </tbody>\n",
              "</table>\n",
              "</div>"
            ],
            "text/plain": [
              "                   Words Label\n",
              "469  1984-02-26 00:00:00  DATE\n",
              "470  1989-05-28 00:00:00  DATE\n",
              "471  1989-07-29 00:00:00  DATE\n",
              "472  1996-09-10 00:00:00  DATE\n",
              "473  2002-12-28 00:00:00  DATE"
            ]
          },
          "metadata": {
            "tags": []
          },
          "execution_count": 11
        }
      ]
    },
    {
      "cell_type": "markdown",
      "metadata": {
        "id": "tUHocck8jjkG",
        "colab_type": "text"
      },
      "source": [
        "Goods"
      ]
    },
    {
      "cell_type": "code",
      "metadata": {
        "id": "TvIN4eOnjllp",
        "colab_type": "code",
        "outputId": "f9344788-3e53-4912-f018-3f8804f2b410",
        "colab": {
          "base_uri": "https://localhost:8080/",
          "height": 204
        }
      },
      "source": [
        "import pandas as pd\n",
        "\n",
        "g_data = pd.read_excel('physical-goods.xlsx')\n",
        "goods_t = pd.DataFrame(data = g_data)\n",
        "goods_t.columns = ['Words']\n",
        "goods_t.insert(1, 'Label', 'PRODUCT')\n",
        "goods_t.head()"
      ],
      "execution_count": 0,
      "outputs": [
        {
          "output_type": "execute_result",
          "data": {
            "text/html": [
              "<div>\n",
              "<style scoped>\n",
              "    .dataframe tbody tr th:only-of-type {\n",
              "        vertical-align: middle;\n",
              "    }\n",
              "\n",
              "    .dataframe tbody tr th {\n",
              "        vertical-align: top;\n",
              "    }\n",
              "\n",
              "    .dataframe thead th {\n",
              "        text-align: right;\n",
              "    }\n",
              "</style>\n",
              "<table border=\"1\" class=\"dataframe\">\n",
              "  <thead>\n",
              "    <tr style=\"text-align: right;\">\n",
              "      <th></th>\n",
              "      <th>Words</th>\n",
              "      <th>Label</th>\n",
              "    </tr>\n",
              "  </thead>\n",
              "  <tbody>\n",
              "    <tr>\n",
              "      <th>0</th>\n",
              "      <td>bedding</td>\n",
              "      <td>PRODUCT</td>\n",
              "    </tr>\n",
              "    <tr>\n",
              "      <th>1</th>\n",
              "      <td>duvet</td>\n",
              "      <td>PRODUCT</td>\n",
              "    </tr>\n",
              "    <tr>\n",
              "      <th>2</th>\n",
              "      <td>throws</td>\n",
              "      <td>PRODUCT</td>\n",
              "    </tr>\n",
              "    <tr>\n",
              "      <th>3</th>\n",
              "      <td>blanked</td>\n",
              "      <td>PRODUCT</td>\n",
              "    </tr>\n",
              "    <tr>\n",
              "      <th>4</th>\n",
              "      <td>bed spread</td>\n",
              "      <td>PRODUCT</td>\n",
              "    </tr>\n",
              "  </tbody>\n",
              "</table>\n",
              "</div>"
            ],
            "text/plain": [
              "        Words    Label\n",
              "0     bedding  PRODUCT\n",
              "1       duvet  PRODUCT\n",
              "2      throws  PRODUCT\n",
              "3     blanked  PRODUCT\n",
              "4  bed spread  PRODUCT"
            ]
          },
          "metadata": {
            "tags": []
          },
          "execution_count": 12
        }
      ]
    },
    {
      "cell_type": "code",
      "metadata": {
        "id": "PGZHJmpJy5oW",
        "colab_type": "code",
        "outputId": "0ca6358a-15b9-4eeb-9f01-b02c414f20da",
        "colab": {
          "base_uri": "https://localhost:8080/",
          "height": 170
        }
      },
      "source": [
        "data_temp = [cities_t,country_t, region_t, f_place, companies_t, abstract_t, random_t, Dates_t, goods_t]\n",
        "data_t = pd.concat(data_temp)\n",
        "data_t.sample(frac=1)\n",
        "data_t.to_csv('ready_to_use.csv', index = False)\n",
        "data_t.info()"
      ],
      "execution_count": 0,
      "outputs": [
        {
          "output_type": "stream",
          "text": [
            "<class 'pandas.core.frame.DataFrame'>\n",
            "Int64Index: 30330 entries, 0 to 616\n",
            "Data columns (total 2 columns):\n",
            " #   Column  Non-Null Count  Dtype \n",
            "---  ------  --------------  ----- \n",
            " 0   Words   30330 non-null  object\n",
            " 1   Label   30330 non-null  object\n",
            "dtypes: object(2)\n",
            "memory usage: 710.9+ KB\n"
          ],
          "name": "stdout"
        }
      ]
    }
  ]
}